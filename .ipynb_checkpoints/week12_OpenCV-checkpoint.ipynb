{
 "cells": [
  {
   "cell_type": "markdown",
   "metadata": {},
   "source": [
    "Atalov S. (TSI AUCA)\n",
    "\n",
    "Data Collection and Processing Technologies\n",
    "\n",
    "---\n",
    "\n",
    "# OpenCV\n",
    "## Face Detection and Recognition\n",
    "\n",
    "---\n",
    "\n",
    "<img src = \"https://miro.medium.com/max/1400/1*YCg8feREW6dC7jI3uCTptA.png\" width = \"500\">"
   ]
  },
  {
   "cell_type": "markdown",
   "metadata": {},
   "source": [
    "## Part 0. Reading Images with OpenCV"
   ]
  },
  {
   "cell_type": "code",
   "execution_count": 1,
   "metadata": {},
   "outputs": [],
   "source": [
    "import cv2 as cv"
   ]
  },
  {
   "cell_type": "code",
   "execution_count": null,
   "metadata": {},
   "outputs": [],
   "source": [
    "img = cv.imread('photos/1.jpg')\n",
    "\n",
    "cv.imshow('IMAGE TITLE', img)\n",
    "\n",
    "cv.waitKey(0)\n",
    "\n",
    "cv.destroyAllWindows()"
   ]
  },
  {
   "cell_type": "markdown",
   "metadata": {},
   "source": [
    "## Part 1. Face Detection"
   ]
  },
  {
   "cell_type": "code",
   "execution_count": null,
   "metadata": {},
   "outputs": [],
   "source": [
    "# https://github.com/opencv/opencv/tree/master/data/haarcascades"
   ]
  },
  {
   "cell_type": "code",
   "execution_count": null,
   "metadata": {},
   "outputs": [],
   "source": [
    "# 1. read the image\n",
    "img  = cv.imread('photos/1.jpg')\n",
    "\n",
    "# 2. make the image gray\n",
    "gray = cv .cvtColor(img, cv.COLOR_BGR2GRAY)\n",
    "\n",
    "# 3. read the classifier\n",
    "haar = cv.CascadeClassifier('haarcascade_frontalface_default.xml')\n",
    "\n",
    "# 4. face recognition\n",
    "recogn_faces = haar.detectMultiScale(gray)\n",
    "\n",
    "# 5. how many faces recognized?\n",
    "print(f\"Число найденных лиц на изображении = {len(recogn_faces)}\")"
   ]
  },
  {
   "cell_type": "code",
   "execution_count": null,
   "metadata": {},
   "outputs": [],
   "source": [
    "# 6. drawing the rectangle\n",
    "for (x, y, w, h) in recogn_faces:\n",
    "    cv.rectangle(img, (x, y), (x+w, y+h), (0, 255, 0), thickness = 2)\n",
    "\n",
    "    \n",
    "# 7. showing the image  \n",
    "cv.imshow('Detected Faces', img)\n",
    "   \n",
    "cv.waitKey(0)\n",
    "\n",
    "cv.destroyAllWindows()"
   ]
  },
  {
   "cell_type": "markdown",
   "metadata": {},
   "source": [
    "### TASK! Try on the above algorithm for face detection on images with several faces"
   ]
  },
  {
   "cell_type": "code",
   "execution_count": null,
   "metadata": {},
   "outputs": [],
   "source": [
    "# 1. read the image\n",
    "img  = cv.imread('photos/2.jpg')\n",
    "\n",
    "# 2. make the image gray\n",
    "gray = cv .cvtColor(img, cv.COLOR_BGR2GRAY)\n",
    "\n",
    "# 3. read the classifier\n",
    "haar = cv.CascadeClassifier('haarcascade_frontalface_default.xml')\n",
    "\n",
    "# 4. face recognition\n",
    "recogn_faces = haar.detectMultiScale(gray)\n",
    "\n",
    "# 5. how many faces recognized?\n",
    "print(f\"Число найденных лиц на изображении = {len(recogn_faces)}\")"
   ]
  },
  {
   "cell_type": "code",
   "execution_count": null,
   "metadata": {},
   "outputs": [],
   "source": [
    "# 6. drawing the rectangle\n",
    "for (x, y, w, h) in recogn_faces:\n",
    "    cv.rectangle(img, (x, y), (x+w, y+h), (0, 255, 0), thickness = 2)\n",
    "\n",
    "    \n",
    "# 7. showing the image  \n",
    "cv.imshow('Detected Faces', img)\n",
    "   \n",
    "cv.waitKey(0)\n",
    "\n",
    "cv.destroyAllWindows()"
   ]
  },
  {
   "cell_type": "code",
   "execution_count": null,
   "metadata": {},
   "outputs": [],
   "source": []
  },
  {
   "cell_type": "markdown",
   "metadata": {},
   "source": [
    "## Part2. Face Recognition"
   ]
  },
  {
   "cell_type": "code",
   "execution_count": null,
   "metadata": {},
   "outputs": [],
   "source": [
    "import os \n",
    "import cv2 as cv\n",
    "import numpy as np"
   ]
  },
  {
   "cell_type": "markdown",
   "metadata": {},
   "source": [
    "### 2.1. Training the algorithm"
   ]
  },
  {
   "cell_type": "code",
   "execution_count": null,
   "metadata": {},
   "outputs": [],
   "source": [
    "people = ['DiCaprio', 'Musk']\n",
    "\n",
    "# direction to the folder with images\n",
    "DIR = 'faces/train'\n",
    "\n",
    "haar = cv.CascadeClassifier('haarcascade_frontalface_default.xml')\n",
    "\n",
    "features = []\n",
    "labels = []\n",
    "\n",
    "def create_train():\n",
    "    for person in people:\n",
    "        path = os.path.join(DIR, person)\n",
    "        label = people.index(person)\n",
    "\n",
    "        for img in os.listdir(path):\n",
    "            img_path = os.path.join(path, img)\n",
    "\n",
    "            img_array = cv.imread(img_path)\n",
    "            gray = cv.cvtColor(img_array, cv.COLOR_BGR2GRAY)\n",
    "\n",
    "            faces_rect = haar.detectMultiScale(gray)\n",
    "\n",
    "            for (x, y, w, h) in faces_rect:\n",
    "                faces_roi = gray[y:y+h, x:x+w]\n",
    "                features.append(faces_roi)\n",
    "                labels.append(label)"
   ]
  },
  {
   "cell_type": "code",
   "execution_count": null,
   "metadata": {},
   "outputs": [],
   "source": [
    "create_train()\n",
    "\n",
    "print('НАТРЕНИРОВАНО! ---------------')\n",
    "\n",
    "features = np.array(features, dtype='object')\n",
    "labels = np.array(labels)\n",
    "\n",
    "face_recognizer = cv.face.LBPHFaceRecognizer_create()\n",
    "\n",
    "# Train the Recognizer on the features list and the labels list\n",
    "face_recognizer.train(features,labels)\n",
    "\n",
    "face_recognizer.save('face_trained.yml')\n",
    "np.save('features.npy', features)\n",
    "np.save('labels.npy', labels)"
   ]
  },
  {
   "cell_type": "markdown",
   "metadata": {},
   "source": [
    "### 2.2. Face Recognition"
   ]
  },
  {
   "cell_type": "code",
   "execution_count": null,
   "metadata": {},
   "outputs": [],
   "source": [
    "haar_cascade = cv.CascadeClassifier('haarcascade_frontalface_default.xml')\n",
    "\n",
    "people = ['DiCaprio', 'Musk']\n",
    "# features = np.load('features.npy', allow_pickle=True)\n",
    "# labels = np.load('labels.npy')\n",
    "\n",
    "face_recognizer = cv.face.LBPHFaceRecognizer_create()\n",
    "face_recognizer.read('face_trained.yml')\n",
    "\n",
    "img = cv.imread(r'photos/4.jpg')\n",
    "\n",
    "gray = cv.cvtColor(img, cv.COLOR_BGR2GRAY)\n",
    "\n",
    "\n",
    "\n",
    "# Detect the face in the image\n",
    "faces_rect = haar_cascade.detectMultiScale(gray)\n",
    "\n",
    "for (x,y,w,h) in faces_rect:\n",
    "    faces_roi = gray[y:y+h,x:x+w]\n",
    "\n",
    "    label, confidence = face_recognizer.predict(faces_roi)\n",
    "    print(f'Label = {people[label]} with a confidence of {confidence}')\n",
    "\n",
    "    cv.putText(img, str(people[label]), (20,20), cv.FONT_HERSHEY_COMPLEX, 1.0, (0,255,0), thickness=2)\n",
    "    cv.rectangle(img, (x,y), (x+w,y+h), (0,255,0), thickness=2)\n",
    "\n",
    "cv.imshow('Detected Face', img)\n",
    "\n",
    "cv.waitKey(0)\n",
    "\n",
    "cv.destroyAllWindows()"
   ]
  },
  {
   "cell_type": "code",
   "execution_count": null,
   "metadata": {},
   "outputs": [],
   "source": []
  }
 ],
 "metadata": {
  "kernelspec": {
   "display_name": "Python 3",
   "language": "python",
   "name": "python3"
  },
  "language_info": {
   "codemirror_mode": {
    "name": "ipython",
    "version": 3
   },
   "file_extension": ".py",
   "mimetype": "text/x-python",
   "name": "python",
   "nbconvert_exporter": "python",
   "pygments_lexer": "ipython3",
   "version": "3.8.5"
  }
 },
 "nbformat": 4,
 "nbformat_minor": 5
}
