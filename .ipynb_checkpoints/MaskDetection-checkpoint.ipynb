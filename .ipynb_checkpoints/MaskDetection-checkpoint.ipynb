{
 "cells": [
  {
   "cell_type": "code",
   "execution_count": 1,
   "id": "24157049",
   "metadata": {},
   "outputs": [],
   "source": [
    "import os \n",
    "import cv2 as cv\n",
    "import numpy as np"
   ]
  },
  {
   "cell_type": "markdown",
   "id": "fbd70667",
   "metadata": {},
   "source": [
    "### 2.1. Training the algorithm"
   ]
  },
  {
   "cell_type": "code",
   "execution_count": 2,
   "id": "01f226f5",
   "metadata": {},
   "outputs": [],
   "source": [
    "people = ['No Mask','On Mask']\n",
    "\n",
    "# direction to the folder with images\n",
    "DIR = 'faces/train'\n",
    "\n",
    "haar = cv.CascadeClassifier('haarcascade_frontalface_default.xml')\n",
    "\n",
    "features = []\n",
    "labels = []\n",
    "\n",
    "def create_train():\n",
    "    for person in people:\n",
    "        path = os.path.join(DIR, person)\n",
    "        label = people.index(person)\n",
    "\n",
    "        for img in os.listdir(path):\n",
    "            img_path = os.path.join(path, img)\n",
    "\n",
    "            img_array = cv.imread(img_path)\n",
    "            gray = cv.cvtColor(img_array, cv.COLOR_BGR2GRAY)\n",
    "\n",
    "            faces_rect = haar.detectMultiScale(gray)\n",
    "\n",
    "            for (x, y, w, h) in faces_rect:\n",
    "                faces_roi = gray[y:y+h, x:x+w]\n",
    "                features.append(faces_roi)\n",
    "                labels.append(label)"
   ]
  },
  {
   "cell_type": "code",
   "execution_count": 3,
   "id": "afd7ae56",
   "metadata": {},
   "outputs": [
    {
     "name": "stdout",
     "output_type": "stream",
     "text": [
      "НАТРЕНИРОВАНО! ---------------\n"
     ]
    }
   ],
   "source": [
    "create_train()\n",
    "\n",
    "print('НАТРЕНИРОВАНО! ---------------')\n",
    "\n",
    "features = np.array(features, dtype='object')\n",
    "labels = np.array(labels)\n",
    "\n",
    "face_recognizer = cv.face.LBPHFaceRecognizer_create()\n",
    "\n",
    "# Train the Recognizer on the features list and the labels list\n",
    "face_recognizer.train(features,labels)\n",
    "\n",
    "face_recognizer.save('face_trained.yml')\n",
    "np.save('features.npy', features)\n",
    "np.save('labels.npy', labels)"
   ]
  },
  {
   "cell_type": "markdown",
   "id": "fa48eca5",
   "metadata": {},
   "source": [
    "### 2.2. Face Recognition"
   ]
  },
  {
   "cell_type": "code",
   "execution_count": 4,
   "id": "e3256b6b",
   "metadata": {},
   "outputs": [],
   "source": [
    "def Classify(img_path):\n",
    "    haar_cascade = cv.CascadeClassifier('haarcascade_frontalface_default.xml')\n",
    "\n",
    "    people = ['No Mask','On Mask']\n",
    "# features = np.load('features.npy', allow_pickle=True)\n",
    "# labels = np.load('labels.npy')\n",
    "\n",
    "    face_recognizer = cv.face.LBPHFaceRecognizer_create()\n",
    "    face_recognizer.read('face_trained.yml')\n",
    "\n",
    "    img = cv.imread(img_path)\n",
    "\n",
    "    gray = cv.cvtColor(img, cv.COLOR_BGR2GRAY)\n",
    "\n",
    "\n",
    "\n",
    "# Detect the face in the image\n",
    "    faces_rect = haar_cascade.detectMultiScale(gray)\n",
    "\n",
    "    for (x,y,w,h) in faces_rect:\n",
    "        faces_roi = gray[y:y+h,x:x+w]\n",
    "\n",
    "        label, confidence = face_recognizer.predict(faces_roi)\n",
    "        if people[label]:\n",
    "            return people[label]\n",
    "        else:\n",
    "            return \"\""
   ]
  },
  {
   "cell_type": "code",
   "execution_count": 5,
   "id": "55027236",
   "metadata": {},
   "outputs": [],
   "source": [
    "import numpy as np\n",
    "import cv2\n",
    "import matplotlib.pyplot as plt\n",
    "faceCascade = cv2.CascadeClassifier('./haarcascade_frontalface_default.xml')\n",
    "cap = cv2.VideoCapture(0)\n",
    "cap.set(3,640) # set Width\n",
    "cap.set(4,480) # set Height\n",
    "while True:\n",
    "    ret, img = cap.read()\n",
    "    img = cv2.flip(img, -1)\n",
    "    gray = cv2.cvtColor(img, cv2.COLOR_BGR2GRAY)\n",
    "    faces = faceCascade.detectMultiScale(\n",
    "        gray,     \n",
    "        scaleFactor=1.2,\n",
    "        minNeighbors=5,     \n",
    "        minSize=(20, 20)\n",
    "    )\n",
    "    for (x,y,w,h) in faces:\n",
    "        face = img[y:y+h, x:x+w]\n",
    "        cv2.imwrite('1.jpg', face) #save the image\n",
    "        cv2.putText(img, Classify(\"1.jpg\"),(x, y - 10), cv2.FONT_HERSHEY_DUPLEX, 1, (0, 255, 0), 2)\n",
    "        cv2.rectangle(img,(x,y),(x+w,y+h),(0,255,0),2)\n",
    "        roi_gray = gray[y:y+h, x:x+w]\n",
    "        roi_color = img[y:y+h, x:x+w]  \n",
    "    cv2.imshow('video',img)\n",
    "    \n",
    "    k = cv2.waitKey(30) & 0xff\n",
    "    if k == 27: # press 'ESC' to quit\n",
    "        break\n",
    "cap.release()\n",
    "cv2.destroyAllWindows()\n"
   ]
  },
  {
   "cell_type": "code",
   "execution_count": null,
   "id": "9d0632fe",
   "metadata": {},
   "outputs": [],
   "source": []
  }
 ],
 "metadata": {
  "kernelspec": {
   "display_name": "Python 3 (ipykernel)",
   "language": "python",
   "name": "python3"
  },
  "language_info": {
   "codemirror_mode": {
    "name": "ipython",
    "version": 3
   },
   "file_extension": ".py",
   "mimetype": "text/x-python",
   "name": "python",
   "nbconvert_exporter": "python",
   "pygments_lexer": "ipython3",
   "version": "3.9.7"
  }
 },
 "nbformat": 4,
 "nbformat_minor": 5
}
