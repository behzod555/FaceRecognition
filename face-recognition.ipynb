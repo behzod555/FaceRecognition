{
 "cells": [
  {
   "cell_type": "code",
   "execution_count": 1,
   "id": "24157049",
   "metadata": {},
   "outputs": [
    {
     "name": "stdout",
     "output_type": "stream",
     "text": [
      "Requirement already satisfied: opencv-python in c:\\users\\behzo\\anaconda\\lib\\site-packages (4.10.0.82)\n",
      "Requirement already satisfied: numpy>=1.19.3 in c:\\users\\behzo\\anaconda\\lib\\site-packages (from opencv-python) (1.24.2)\n"
     ]
    },
    {
     "name": "stderr",
     "output_type": "stream",
     "text": [
      "WARNING: Ignoring invalid distribution -pencv-python (c:\\users\\behzo\\anaconda\\lib\\site-packages)\n",
      "WARNING: Ignoring invalid distribution -pencv-python (c:\\users\\behzo\\anaconda\\lib\\site-packages)\n",
      "WARNING: Ignoring invalid distribution -pencv-python (c:\\users\\behzo\\anaconda\\lib\\site-packages)\n",
      "WARNING: Ignoring invalid distribution -pencv-python (c:\\users\\behzo\\anaconda\\lib\\site-packages)\n",
      "WARNING: Ignoring invalid distribution -pencv-python (c:\\users\\behzo\\anaconda\\lib\\site-packages)\n",
      "WARNING: Ignoring invalid distribution -pencv-python (c:\\users\\behzo\\anaconda\\lib\\site-packages)\n"
     ]
    },
    {
     "name": "stdout",
     "output_type": "stream",
     "text": [
      "Requirement already satisfied: opencv-contrib-python in c:\\users\\behzo\\appdata\\roaming\\python\\python39\\site-packages (4.10.0.82)\n",
      "Requirement already satisfied: numpy>=1.17.0 in c:\\users\\behzo\\anaconda\\lib\\site-packages (from opencv-contrib-python) (1.24.2)\n"
     ]
    },
    {
     "name": "stderr",
     "output_type": "stream",
     "text": [
      "WARNING: Ignoring invalid distribution -pencv-python (c:\\users\\behzo\\anaconda\\lib\\site-packages)\n",
      "WARNING: Ignoring invalid distribution -pencv-python (c:\\users\\behzo\\anaconda\\lib\\site-packages)\n",
      "WARNING: Ignoring invalid distribution -pencv-python (c:\\users\\behzo\\anaconda\\lib\\site-packages)\n",
      "WARNING: Ignoring invalid distribution -pencv-python (c:\\users\\behzo\\anaconda\\lib\\site-packages)\n",
      "WARNING: Ignoring invalid distribution -pencv-python (c:\\users\\behzo\\anaconda\\lib\\site-packages)\n",
      "WARNING: Ignoring invalid distribution -pencv-python (c:\\users\\behzo\\anaconda\\lib\\site-packages)\n"
     ]
    },
    {
     "name": "stdout",
     "output_type": "stream",
     "text": [
      "Requirement already satisfied: numpy in c:\\users\\behzo\\anaconda\\lib\\site-packages (1.24.2)\n"
     ]
    },
    {
     "name": "stderr",
     "output_type": "stream",
     "text": [
      "WARNING: Ignoring invalid distribution -pencv-python (c:\\users\\behzo\\anaconda\\lib\\site-packages)\n",
      "WARNING: Ignoring invalid distribution -pencv-python (c:\\users\\behzo\\anaconda\\lib\\site-packages)\n",
      "WARNING: Ignoring invalid distribution -pencv-python (c:\\users\\behzo\\anaconda\\lib\\site-packages)\n",
      "WARNING: Ignoring invalid distribution -pencv-python (c:\\users\\behzo\\anaconda\\lib\\site-packages)\n",
      "WARNING: Ignoring invalid distribution -pencv-python (c:\\users\\behzo\\anaconda\\lib\\site-packages)\n",
      "WARNING: Ignoring invalid distribution -pencv-python (c:\\users\\behzo\\anaconda\\lib\\site-packages)\n"
     ]
    }
   ],
   "source": [
    "!pip install opencv-python\n",
    "!pip install opencv-contrib-python\n",
    "!pip install numpy"
   ]
  },
  {
   "cell_type": "code",
   "execution_count": 2,
   "id": "2bd7e1ce",
   "metadata": {},
   "outputs": [],
   "source": [
    "import os \n",
    "import cv2 as cv\n",
    "import numpy as np"
   ]
  },
  {
   "cell_type": "markdown",
   "id": "fbd70667",
   "metadata": {},
   "source": [
    "### 2.1. Training the algorithm"
   ]
  },
  {
   "cell_type": "code",
   "execution_count": 3,
   "id": "01f226f5",
   "metadata": {},
   "outputs": [
    {
     "name": "stdout",
     "output_type": "stream",
     "text": [
      "['Gates', 'Jobs', 'Musk']\n"
     ]
    }
   ],
   "source": [
    "DIR = 'faces/train'\n",
    "people = [person for person in os.listdir(DIR) if os.path.isdir(os.path.join(DIR, person))]\n",
    "print(people)\n",
    "# direction to the folder with images\n",
    "\n",
    "\n",
    "haar = cv.CascadeClassifier('haarcascade_frontalface_default.xml')\n",
    "\n",
    "features = []\n",
    "labels = []\n",
    "\n",
    "def create_train():\n",
    "    for person in people:\n",
    "        path = os.path.join(DIR, person)\n",
    "        label = people.index(person)\n",
    "\n",
    "        for img in os.listdir(path):\n",
    "            img_path = os.path.join(path, img)\n",
    "\n",
    "            img_array = cv.imread(img_path)\n",
    "            gray = cv.cvtColor(img_array, cv.COLOR_BGR2GRAY)\n",
    "\n",
    "            faces_rect = haar.detectMultiScale(gray)\n",
    "\n",
    "            for (x, y, w, h) in faces_rect:\n",
    "                faces_roi = gray[y:y+h, x:x+w]\n",
    "                features.append(faces_roi)\n",
    "                labels.append(label)"
   ]
  },
  {
   "cell_type": "code",
   "execution_count": 4,
   "id": "bc246dec",
   "metadata": {},
   "outputs": [
    {
     "name": "stdout",
     "output_type": "stream",
     "text": [
      "['Gates', 'Jobs', 'Musk']\n",
      "faces/train\\Gates\\0x0.jpg\n",
      "Deleting faces/train\\Gates\\0x0.jpg - Number of faces detected: 7\n",
      "faces/train\\Gates\\104461165-Bill_Gates_green.jpg\n",
      "faces/train\\Gates\\Bill-Gates-2011.jpg\n",
      "Deleting faces/train\\Gates\\Bill-Gates-2011.jpg - Number of faces detected: 5\n",
      "faces/train\\Gates\\billgatestock.jpg\n",
      "Deleting faces/train\\Gates\\billgatestock.jpg - Number of faces detected: 5\n",
      "faces/train\\Gates\\Bill_Gates_2017_(cropped).jpg\n",
      "faces/train\\Gates\\Bill_Gates_July_2014.jpg\n",
      "Deleting faces/train\\Gates\\Bill_Gates_July_2014.jpg - Number of faces detected: 2\n",
      "faces/train\\Gates\\download (1).jpg\n",
      "faces/train\\Gates\\download (2).jpg\n",
      "faces/train\\Gates\\download (3).jpg\n",
      "faces/train\\Gates\\download.jpg\n",
      "faces/train\\Gates\\GettyImages-187969754_441409_w6ga1c.jpg\n",
      "faces/train\\Gates\\images (1).jpg\n",
      "faces/train\\Gates\\images.jpg\n",
      "faces/train\\Gates\\summer-books_2020_article-hero_1200x564_01.jpg\n",
      "Deleting faces/train\\Gates\\summer-books_2020_article-hero_1200x564_01.jpg - Number of faces detected: 0\n",
      "faces/train\\Gates\\thumbs_b_c_3bbbdbfe17acd1149ac4688bfdc372c5.jpg\n",
      "faces/train\\Jobs\\03stewart-superJumbo-v2.jpg\n",
      "faces/train\\Jobs\\104556423-steve-jobs-iphone-10-years.jpg\n",
      "Deleting faces/train\\Jobs\\104556423-steve-jobs-iphone-10-years.jpg - Number of faces detected: 3\n",
      "faces/train\\Jobs\\6203cabebd504100191957d6.webp\n",
      "faces/train\\Jobs\\800px-Steve_Jobs.jpg\n",
      "faces/train\\Jobs\\apple_jobs_8450869_custom-fcad095f883b744792dc0b2aa6347b9ad32c9b48-s1100-c50.jpg\n",
      "faces/train\\Jobs\\Gira_internacional_USA_-_Steve_Jobs_(cropped).jpg\n",
      "faces/train\\Jobs\\images (1).jpg\n",
      "faces/train\\Jobs\\images.jpg\n",
      "faces/train\\Jobs\\maxresdefault.jpg\n",
      "faces/train\\Jobs\\s6XnBUcLS4kGegcn.jpg\n",
      "faces/train\\Jobs\\steve-jobs--david-paul-morrisbloomberg-via-getty-images.jpg\n",
      "Deleting faces/train\\Jobs\\steve-jobs--david-paul-morrisbloomberg-via-getty-images.jpg - Number of faces detected: 2\n",
      "faces/train\\Jobs\\steve-jobs-2-1.webp\n",
      "faces/train\\Jobs\\Steve_Jobs_Headshot_2010-CROP_(cropped_2).jpg\n",
      "Deleting faces/train\\Jobs\\Steve_Jobs_Headshot_2010-CROP_(cropped_2).jpg - Number of faces detected: 2\n",
      "faces/train\\Jobs\\steve_jobs_turtleneck.jpg\n",
      "Deleting faces/train\\Jobs\\steve_jobs_turtleneck.jpg - Number of faces detected: 2\n",
      "faces/train\\Jobs\\Steve_Jobs_with_red_shawl_edit.jpg\n",
      "Deleting faces/train\\Jobs\\Steve_Jobs_with_red_shawl_edit.jpg - Number of faces detected: 3\n",
      "faces/train\\Musk\\20190318015843-1fd9c042.jpg\n",
      "faces/train\\Musk\\52397a38565a0.jpg\n",
      "faces/train\\Musk\\960x0.jpg\n",
      "faces/train\\Musk\\a68339fe-0001-0004-0000-000000531724_w1200_r1_fpx39_fpy57.jpg\n",
      "faces/train\\Musk\\Elon Musk Getty_0.jpg\n",
      "faces/train\\Musk\\Elon-Musk.jpg\n",
      "faces/train\\Musk\\Elon-Musk2.jpg\n",
      "faces/train\\Musk\\Elon-Musk3.jpg\n",
      "faces/train\\Musk\\Elon-Musk4jpg.jpg\n",
      "faces/train\\Musk\\Elon_Musk_2015.jpg\n",
      "faces/train\\Musk\\Elon_Musk_Royal_Society.jpg\n",
      "faces/train\\Musk\\Elon_Musk_Royal_Society_(cropped).jpg\n",
      "faces/train\\Musk\\musk.jpg\n",
      "faces/train\\Musk\\SpaceX_CEO_Elon_Musk_visits_N_NC_and_AFSPC_(190416-F-ZZ999-006)_(cropped).jpg\n",
      "faces/train\\Musk\\wide_16_9_4410581827ecc0e295e4ee9241947c82.jpg\n"
     ]
    }
   ],
   "source": [
    "import os\n",
    "import cv2 as cv\n",
    "\n",
    "DIR = 'faces/train'\n",
    "people = [person for person in os.listdir(DIR) if os.path.isdir(os.path.join(DIR, person))]\n",
    "print(people)\n",
    "\n",
    "haar = cv.CascadeClassifier('haarcascade_frontalface_default.xml')\n",
    "\n",
    "features = []\n",
    "labels = []\n",
    "\n",
    "def create_train():\n",
    "    for person in people:\n",
    "        path = os.path.join(DIR, person)\n",
    "        label = people.index(person)\n",
    "\n",
    "        for img in os.listdir(path):\n",
    "            img_path = os.path.join(path, img)\n",
    "\n",
    "            img_array = cv.imread(img_path)\n",
    "            print(img_path)\n",
    "            gray = cv.cvtColor(img_array, cv.COLOR_BGR2GRAY)\n",
    "\n",
    "            faces_rect = haar.detectMultiScale(gray)\n",
    "\n",
    "            # Delete the image if no faces or more than one face are detected\n",
    "            if len(faces_rect) != 1:\n",
    "                print(f\"Deleting {img_path} - Number of faces detected: {len(faces_rect)}\")\n",
    "                os.remove(img_path)\n",
    "                continue\n",
    "\n",
    "            for (x, y, w, h) in faces_rect:\n",
    "                faces_roi = gray[y:y+h, x:x+w]\n",
    "                features.append(faces_roi)\n",
    "                labels.append(label)\n",
    "\n",
    "create_train()"
   ]
  },
  {
   "cell_type": "code",
   "execution_count": 5,
   "id": "afd7ae56",
   "metadata": {},
   "outputs": [
    {
     "name": "stdout",
     "output_type": "stream",
     "text": [
      "faces/train\\Gates\\104461165-Bill_Gates_green.jpg\n",
      "faces/train\\Gates\\Bill_Gates_2017_(cropped).jpg\n",
      "faces/train\\Gates\\download (1).jpg\n",
      "faces/train\\Gates\\download (2).jpg\n",
      "faces/train\\Gates\\download (3).jpg\n",
      "faces/train\\Gates\\download.jpg\n",
      "faces/train\\Gates\\GettyImages-187969754_441409_w6ga1c.jpg\n",
      "faces/train\\Gates\\images (1).jpg\n",
      "faces/train\\Gates\\images.jpg\n",
      "faces/train\\Gates\\thumbs_b_c_3bbbdbfe17acd1149ac4688bfdc372c5.jpg\n",
      "faces/train\\Jobs\\03stewart-superJumbo-v2.jpg\n",
      "faces/train\\Jobs\\6203cabebd504100191957d6.webp\n",
      "faces/train\\Jobs\\800px-Steve_Jobs.jpg\n",
      "faces/train\\Jobs\\apple_jobs_8450869_custom-fcad095f883b744792dc0b2aa6347b9ad32c9b48-s1100-c50.jpg\n",
      "faces/train\\Jobs\\Gira_internacional_USA_-_Steve_Jobs_(cropped).jpg\n",
      "faces/train\\Jobs\\images (1).jpg\n",
      "faces/train\\Jobs\\images.jpg\n",
      "faces/train\\Jobs\\maxresdefault.jpg\n",
      "faces/train\\Jobs\\s6XnBUcLS4kGegcn.jpg\n",
      "faces/train\\Jobs\\steve-jobs-2-1.webp\n",
      "faces/train\\Musk\\20190318015843-1fd9c042.jpg\n",
      "faces/train\\Musk\\52397a38565a0.jpg\n",
      "faces/train\\Musk\\960x0.jpg\n",
      "faces/train\\Musk\\a68339fe-0001-0004-0000-000000531724_w1200_r1_fpx39_fpy57.jpg\n",
      "faces/train\\Musk\\Elon Musk Getty_0.jpg\n",
      "faces/train\\Musk\\Elon-Musk.jpg\n",
      "faces/train\\Musk\\Elon-Musk2.jpg\n",
      "faces/train\\Musk\\Elon-Musk3.jpg\n",
      "faces/train\\Musk\\Elon-Musk4jpg.jpg\n",
      "faces/train\\Musk\\Elon_Musk_2015.jpg\n",
      "faces/train\\Musk\\Elon_Musk_Royal_Society.jpg\n",
      "faces/train\\Musk\\Elon_Musk_Royal_Society_(cropped).jpg\n",
      "faces/train\\Musk\\musk.jpg\n",
      "faces/train\\Musk\\SpaceX_CEO_Elon_Musk_visits_N_NC_and_AFSPC_(190416-F-ZZ999-006)_(cropped).jpg\n",
      "faces/train\\Musk\\wide_16_9_4410581827ecc0e295e4ee9241947c82.jpg\n",
      "НАТРЕНИРОВАНО! ---------------\n"
     ]
    }
   ],
   "source": [
    "create_train()\n",
    "\n",
    "print('НАТРЕНИРОВАНО! ---------------')\n",
    "\n",
    "features = np.array(features, dtype='object')\n",
    "labels = np.array(labels)\n",
    "\n",
    "face_recognizer = cv.face.LBPHFaceRecognizer_create()\n",
    "\n",
    "# Train the Recognizer on the features list and the labels list\n",
    "face_recognizer.train(features,labels)\n",
    "\n",
    "face_recognizer.save('face_trained.yml')\n",
    "np.save('features.npy', features)\n",
    "np.save('labels.npy', labels)"
   ]
  },
  {
   "cell_type": "markdown",
   "id": "fa48eca5",
   "metadata": {},
   "source": [
    "### 2.2. Face Recognition"
   ]
  },
  {
   "cell_type": "code",
   "execution_count": 5,
   "id": "9d0632fe",
   "metadata": {},
   "outputs": [],
   "source": [
    "import os\n",
    "import numpy as np\n",
    "import cv2\n",
    "\n",
    "# Directory to the folder with images\n",
    "DIR = 'faces/train'\n",
    "\n",
    "# Load the Haar cascade for face detection\n",
    "haar_cascade = cv2.CascadeClassifier('haarcascade_frontalface_default.xml')\n",
    "\n",
    "# Dynamically create the list of people from folder names\n",
    "people = [person for person in os.listdir(DIR) if os.path.isdir(os.path.join(DIR, person))]\n",
    "\n",
    "# Load the pre-trained LBPH face recognizer\n",
    "face_recognizer = cv2.face.LBPHFaceRecognizer_create()\n",
    "face_recognizer.read('face_trained.yml')\n",
    "\n",
    "# Initialize counters for accuracy calculation\n",
    "total_faces = 0\n",
    "correct_predictions = 0\n",
    "\n",
    "# Function to classify a face and return the predicted label and confidence\n",
    "def Classify(face):\n",
    "    gray = cv2.cvtColor(face, cv2.COLOR_BGR2GRAY)\n",
    "    label, confidence = face_recognizer.predict(gray)\n",
    "    \n",
    "    # Check if the label is within the valid range\n",
    "    if label >= 0 and label < len(people):\n",
    "        predicted_person = people[label]\n",
    "    else:\n",
    "        predicted_person = \"Unknown\"\n",
    "    \n",
    "    return predicted_person, confidence\n",
    "\n",
    "# Initialize video capture from webcam (change 0 to another number if using a different camera)\n",
    "cap = cv2.VideoCapture(0)\n",
    "cap.set(3, 640)  # Set Width\n",
    "cap.set(4, 480)  # Set Height\n",
    "\n",
    "while True:\n",
    "    ret, img = cap.read()\n",
    "    if not ret:\n",
    "        break\n",
    "\n",
    "    img = cv2.flip(img, 1)\n",
    "    gray = cv2.cvtColor(img, cv2.COLOR_BGR2GRAY)\n",
    "\n",
    "    # Detect faces in the video frame\n",
    "    faces = haar_cascade.detectMultiScale(\n",
    "        gray,\n",
    "        scaleFactor=1.2,\n",
    "        minNeighbors=5,\n",
    "        minSize=(20, 20)\n",
    "    )\n",
    "\n",
    "    for (x, y, w, h) in faces:\n",
    "        face = img[y:y+h, x:x+w]\n",
    "\n",
    "        # Classify the detected face\n",
    "        predicted_person, confidence = Classify(face)\n",
    "\n",
    "        # Check if prediction confidence is within a reasonable threshold\n",
    "        if confidence < 100:  # Adjust this threshold as needed\n",
    "            correct_predictions += 1\n",
    "\n",
    "        total_faces += 1\n",
    "\n",
    "        # Display the prediction and bounding box around the face\n",
    "        cv2.putText(img, f'{predicted_person} ({confidence:.2f})', (x, y - 10), cv2.FONT_HERSHEY_DUPLEX, 1, (0, 255, 0), 2)\n",
    "        cv2.rectangle(img, (x, y), (x+w, y+h), (0, 255, 0), 2)\n",
    "\n",
    "    # Calculate and display accuracy\n",
    "    if total_faces > 0:\n",
    "        accuracy = (correct_predictions / total_faces) * 100\n",
    "        cv2.putText(img, f'Accuracy: {accuracy:.2f}%', (10, 50), cv2.FONT_HERSHEY_SIMPLEX, 1, (255, 0, 0), 2)\n",
    "\n",
    "    # Display the video frame\n",
    "    cv2.imshow('Video', img)\n",
    "\n",
    "    # Exit the loop when 'ESC' key is pressed\n",
    "    k = cv2.waitKey(30) & 0xff\n",
    "    if k == 27:\n",
    "        break\n",
    "\n",
    "# Release the video capture and close all OpenCV windows\n",
    "cap.release()\n",
    "cv2.destroyAllWindows()"
   ]
  },
  {
   "cell_type": "code",
   "execution_count": null,
   "id": "e016d469",
   "metadata": {},
   "outputs": [],
   "source": []
  }
 ],
 "metadata": {
  "kernelspec": {
   "display_name": "Python 3 (ipykernel)",
   "language": "python",
   "name": "python3"
  },
  "language_info": {
   "codemirror_mode": {
    "name": "ipython",
    "version": 3
   },
   "file_extension": ".py",
   "mimetype": "text/x-python",
   "name": "python",
   "nbconvert_exporter": "python",
   "pygments_lexer": "ipython3",
   "version": "3.9.13"
  }
 },
 "nbformat": 4,
 "nbformat_minor": 5
}
